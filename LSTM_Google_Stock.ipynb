{
  "nbformat": 4,
  "nbformat_minor": 0,
  "metadata": {
    "colab": {
      "name": "LSTM_Google_Stock.ipynb",
      "provenance": [],
      "collapsed_sections": [],
      "authorship_tag": "ABX9TyPdJUDcbj+cu7pfF/wNJPzu"
    },
    "kernelspec": {
      "name": "python3",
      "display_name": "Python 3"
    },
    "accelerator": "GPU"
  },
  "cells": [
    {
      "cell_type": "code",
      "metadata": {
        "id": "D3sSnY0_Cafv",
        "colab_type": "code",
        "colab": {
          "base_uri": "https://localhost:8080/",
          "height": 1000
        },
        "outputId": "3072b26f-861c-48c6-a2af-2d4b20d15949"
      },
      "source": [
        "!pip install tensorflow-gpu"
      ],
      "execution_count": 1,
      "outputs": [
        {
          "output_type": "stream",
          "text": [
            "Collecting tensorflow-gpu\n",
            "\u001b[?25l  Downloading https://files.pythonhosted.org/packages/0a/93/c7bca39b23aae45cd2e85ad3871c81eccc63b9c5276e926511e2e5b0879d/tensorflow_gpu-2.1.0-cp36-cp36m-manylinux2010_x86_64.whl (421.8MB)\n",
            "\u001b[K     |████████████████████████████████| 421.8MB 32kB/s \n",
            "\u001b[?25hRequirement already satisfied: wheel>=0.26; python_version >= \"3\" in /usr/local/lib/python3.6/dist-packages (from tensorflow-gpu) (0.34.2)\n",
            "Requirement already satisfied: keras-preprocessing>=1.1.0 in /usr/local/lib/python3.6/dist-packages (from tensorflow-gpu) (1.1.0)\n",
            "Requirement already satisfied: keras-applications>=1.0.8 in /usr/local/lib/python3.6/dist-packages (from tensorflow-gpu) (1.0.8)\n",
            "Requirement already satisfied: scipy==1.4.1; python_version >= \"3\" in /usr/local/lib/python3.6/dist-packages (from tensorflow-gpu) (1.4.1)\n",
            "Requirement already satisfied: termcolor>=1.1.0 in /usr/local/lib/python3.6/dist-packages (from tensorflow-gpu) (1.1.0)\n",
            "Requirement already satisfied: astor>=0.6.0 in /usr/local/lib/python3.6/dist-packages (from tensorflow-gpu) (0.8.1)\n",
            "Requirement already satisfied: numpy<2.0,>=1.16.0 in /usr/local/lib/python3.6/dist-packages (from tensorflow-gpu) (1.18.3)\n",
            "Collecting tensorflow-estimator<2.2.0,>=2.1.0rc0\n",
            "\u001b[?25l  Downloading https://files.pythonhosted.org/packages/18/90/b77c328a1304437ab1310b463e533fa7689f4bfc41549593056d812fab8e/tensorflow_estimator-2.1.0-py2.py3-none-any.whl (448kB)\n",
            "\u001b[K     |████████████████████████████████| 450kB 37.9MB/s \n",
            "\u001b[?25hRequirement already satisfied: wrapt>=1.11.1 in /usr/local/lib/python3.6/dist-packages (from tensorflow-gpu) (1.12.1)\n",
            "Requirement already satisfied: opt-einsum>=2.3.2 in /usr/local/lib/python3.6/dist-packages (from tensorflow-gpu) (3.2.1)\n",
            "Collecting tensorboard<2.2.0,>=2.1.0\n",
            "\u001b[?25l  Downloading https://files.pythonhosted.org/packages/d9/41/bbf49b61370e4f4d245d4c6051dfb6db80cec672605c91b1652ac8cc3d38/tensorboard-2.1.1-py3-none-any.whl (3.8MB)\n",
            "\u001b[K     |████████████████████████████████| 3.9MB 48.0MB/s \n",
            "\u001b[?25hRequirement already satisfied: google-pasta>=0.1.6 in /usr/local/lib/python3.6/dist-packages (from tensorflow-gpu) (0.2.0)\n",
            "Requirement already satisfied: protobuf>=3.8.0 in /usr/local/lib/python3.6/dist-packages (from tensorflow-gpu) (3.10.0)\n",
            "Requirement already satisfied: six>=1.12.0 in /usr/local/lib/python3.6/dist-packages (from tensorflow-gpu) (1.12.0)\n",
            "Collecting gast==0.2.2\n",
            "  Downloading https://files.pythonhosted.org/packages/4e/35/11749bf99b2d4e3cceb4d55ca22590b0d7c2c62b9de38ac4a4a7f4687421/gast-0.2.2.tar.gz\n",
            "Requirement already satisfied: grpcio>=1.8.6 in /usr/local/lib/python3.6/dist-packages (from tensorflow-gpu) (1.28.1)\n",
            "Requirement already satisfied: absl-py>=0.7.0 in /usr/local/lib/python3.6/dist-packages (from tensorflow-gpu) (0.9.0)\n",
            "Requirement already satisfied: h5py in /usr/local/lib/python3.6/dist-packages (from keras-applications>=1.0.8->tensorflow-gpu) (2.10.0)\n",
            "Requirement already satisfied: markdown>=2.6.8 in /usr/local/lib/python3.6/dist-packages (from tensorboard<2.2.0,>=2.1.0->tensorflow-gpu) (3.2.1)\n",
            "Requirement already satisfied: requests<3,>=2.21.0 in /usr/local/lib/python3.6/dist-packages (from tensorboard<2.2.0,>=2.1.0->tensorflow-gpu) (2.21.0)\n",
            "Requirement already satisfied: setuptools>=41.0.0 in /usr/local/lib/python3.6/dist-packages (from tensorboard<2.2.0,>=2.1.0->tensorflow-gpu) (46.1.3)\n",
            "Requirement already satisfied: werkzeug>=0.11.15 in /usr/local/lib/python3.6/dist-packages (from tensorboard<2.2.0,>=2.1.0->tensorflow-gpu) (1.0.1)\n",
            "Requirement already satisfied: google-auth<2,>=1.6.3 in /usr/local/lib/python3.6/dist-packages (from tensorboard<2.2.0,>=2.1.0->tensorflow-gpu) (1.7.2)\n",
            "Requirement already satisfied: google-auth-oauthlib<0.5,>=0.4.1 in /usr/local/lib/python3.6/dist-packages (from tensorboard<2.2.0,>=2.1.0->tensorflow-gpu) (0.4.1)\n",
            "Requirement already satisfied: idna<2.9,>=2.5 in /usr/local/lib/python3.6/dist-packages (from requests<3,>=2.21.0->tensorboard<2.2.0,>=2.1.0->tensorflow-gpu) (2.8)\n",
            "Requirement already satisfied: urllib3<1.25,>=1.21.1 in /usr/local/lib/python3.6/dist-packages (from requests<3,>=2.21.0->tensorboard<2.2.0,>=2.1.0->tensorflow-gpu) (1.24.3)\n",
            "Requirement already satisfied: chardet<3.1.0,>=3.0.2 in /usr/local/lib/python3.6/dist-packages (from requests<3,>=2.21.0->tensorboard<2.2.0,>=2.1.0->tensorflow-gpu) (3.0.4)\n",
            "Requirement already satisfied: certifi>=2017.4.17 in /usr/local/lib/python3.6/dist-packages (from requests<3,>=2.21.0->tensorboard<2.2.0,>=2.1.0->tensorflow-gpu) (2020.4.5.1)\n",
            "Requirement already satisfied: cachetools<3.2,>=2.0.0 in /usr/local/lib/python3.6/dist-packages (from google-auth<2,>=1.6.3->tensorboard<2.2.0,>=2.1.0->tensorflow-gpu) (3.1.1)\n",
            "Requirement already satisfied: rsa<4.1,>=3.1.4 in /usr/local/lib/python3.6/dist-packages (from google-auth<2,>=1.6.3->tensorboard<2.2.0,>=2.1.0->tensorflow-gpu) (4.0)\n",
            "Requirement already satisfied: pyasn1-modules>=0.2.1 in /usr/local/lib/python3.6/dist-packages (from google-auth<2,>=1.6.3->tensorboard<2.2.0,>=2.1.0->tensorflow-gpu) (0.2.8)\n",
            "Requirement already satisfied: requests-oauthlib>=0.7.0 in /usr/local/lib/python3.6/dist-packages (from google-auth-oauthlib<0.5,>=0.4.1->tensorboard<2.2.0,>=2.1.0->tensorflow-gpu) (1.3.0)\n",
            "Requirement already satisfied: pyasn1>=0.1.3 in /usr/local/lib/python3.6/dist-packages (from rsa<4.1,>=3.1.4->google-auth<2,>=1.6.3->tensorboard<2.2.0,>=2.1.0->tensorflow-gpu) (0.4.8)\n",
            "Requirement already satisfied: oauthlib>=3.0.0 in /usr/local/lib/python3.6/dist-packages (from requests-oauthlib>=0.7.0->google-auth-oauthlib<0.5,>=0.4.1->tensorboard<2.2.0,>=2.1.0->tensorflow-gpu) (3.1.0)\n",
            "Building wheels for collected packages: gast\n",
            "  Building wheel for gast (setup.py) ... \u001b[?25l\u001b[?25hdone\n",
            "  Created wheel for gast: filename=gast-0.2.2-cp36-none-any.whl size=7540 sha256=6c6524eecc4be76585e5fc9a04f65bac79db13851f268ea312d6baa21fddce59\n",
            "  Stored in directory: /root/.cache/pip/wheels/5c/2e/7e/a1d4d4fcebe6c381f378ce7743a3ced3699feb89bcfbdadadd\n",
            "Successfully built gast\n",
            "\u001b[31mERROR: tensorflow 2.2.0rc3 has requirement gast==0.3.3, but you'll have gast 0.2.2 which is incompatible.\u001b[0m\n",
            "\u001b[31mERROR: tensorflow 2.2.0rc3 has requirement tensorboard<2.3.0,>=2.2.0, but you'll have tensorboard 2.1.1 which is incompatible.\u001b[0m\n",
            "\u001b[31mERROR: tensorflow 2.2.0rc3 has requirement tensorflow-estimator<2.3.0,>=2.2.0rc0, but you'll have tensorflow-estimator 2.1.0 which is incompatible.\u001b[0m\n",
            "\u001b[31mERROR: tensorflow-probability 0.10.0rc0 has requirement gast>=0.3.2, but you'll have gast 0.2.2 which is incompatible.\u001b[0m\n",
            "Installing collected packages: tensorflow-estimator, tensorboard, gast, tensorflow-gpu\n",
            "  Found existing installation: tensorflow-estimator 2.2.0\n",
            "    Uninstalling tensorflow-estimator-2.2.0:\n",
            "      Successfully uninstalled tensorflow-estimator-2.2.0\n",
            "  Found existing installation: tensorboard 2.2.1\n",
            "    Uninstalling tensorboard-2.2.1:\n",
            "      Successfully uninstalled tensorboard-2.2.1\n",
            "  Found existing installation: gast 0.3.3\n",
            "    Uninstalling gast-0.3.3:\n",
            "      Successfully uninstalled gast-0.3.3\n",
            "Successfully installed gast-0.2.2 tensorboard-2.1.1 tensorflow-estimator-2.1.0 tensorflow-gpu-2.1.0\n"
          ],
          "name": "stdout"
        }
      ]
    },
    {
      "cell_type": "code",
      "metadata": {
        "id": "HJPaUhSoElzw",
        "colab_type": "code",
        "colab": {}
      },
      "source": [
        "import numpy as np\n",
        "import matplotlib.pyplot as plt\n",
        "import pandas as pd\n",
        "from sklearn.preprocessing import MinMaxScaler"
      ],
      "execution_count": 0,
      "outputs": []
    },
    {
      "cell_type": "code",
      "metadata": {
        "id": "DFKQHspTFc3J",
        "colab_type": "code",
        "colab": {
          "base_uri": "https://localhost:8080/",
          "height": 206
        },
        "outputId": "f2b25993-d530-4617-b534-e45b60b8414e"
      },
      "source": [
        "data = pd.read_csv(\"GOOGL.csv\",date_parser = True)\n",
        "data.head()"
      ],
      "execution_count": 3,
      "outputs": [
        {
          "output_type": "execute_result",
          "data": {
            "text/html": [
              "<div>\n",
              "<style scoped>\n",
              "    .dataframe tbody tr th:only-of-type {\n",
              "        vertical-align: middle;\n",
              "    }\n",
              "\n",
              "    .dataframe tbody tr th {\n",
              "        vertical-align: top;\n",
              "    }\n",
              "\n",
              "    .dataframe thead th {\n",
              "        text-align: right;\n",
              "    }\n",
              "</style>\n",
              "<table border=\"1\" class=\"dataframe\">\n",
              "  <thead>\n",
              "    <tr style=\"text-align: right;\">\n",
              "      <th></th>\n",
              "      <th>Date</th>\n",
              "      <th>Open</th>\n",
              "      <th>High</th>\n",
              "      <th>Low</th>\n",
              "      <th>Close</th>\n",
              "      <th>Adj Close</th>\n",
              "      <th>Volume</th>\n",
              "    </tr>\n",
              "  </thead>\n",
              "  <tbody>\n",
              "    <tr>\n",
              "      <th>0</th>\n",
              "      <td>2004-08-19</td>\n",
              "      <td>50.050049</td>\n",
              "      <td>52.082081</td>\n",
              "      <td>48.028027</td>\n",
              "      <td>50.220219</td>\n",
              "      <td>50.220219</td>\n",
              "      <td>44659000</td>\n",
              "    </tr>\n",
              "    <tr>\n",
              "      <th>1</th>\n",
              "      <td>2004-08-20</td>\n",
              "      <td>50.555557</td>\n",
              "      <td>54.594593</td>\n",
              "      <td>50.300301</td>\n",
              "      <td>54.209209</td>\n",
              "      <td>54.209209</td>\n",
              "      <td>22834300</td>\n",
              "    </tr>\n",
              "    <tr>\n",
              "      <th>2</th>\n",
              "      <td>2004-08-23</td>\n",
              "      <td>55.430431</td>\n",
              "      <td>56.796795</td>\n",
              "      <td>54.579578</td>\n",
              "      <td>54.754753</td>\n",
              "      <td>54.754753</td>\n",
              "      <td>18256100</td>\n",
              "    </tr>\n",
              "    <tr>\n",
              "      <th>3</th>\n",
              "      <td>2004-08-24</td>\n",
              "      <td>55.675674</td>\n",
              "      <td>55.855854</td>\n",
              "      <td>51.836838</td>\n",
              "      <td>52.487488</td>\n",
              "      <td>52.487488</td>\n",
              "      <td>15247300</td>\n",
              "    </tr>\n",
              "    <tr>\n",
              "      <th>4</th>\n",
              "      <td>2004-08-25</td>\n",
              "      <td>52.532532</td>\n",
              "      <td>54.054054</td>\n",
              "      <td>51.991993</td>\n",
              "      <td>53.053055</td>\n",
              "      <td>53.053055</td>\n",
              "      <td>9188600</td>\n",
              "    </tr>\n",
              "  </tbody>\n",
              "</table>\n",
              "</div>"
            ],
            "text/plain": [
              "         Date       Open       High        Low      Close  Adj Close    Volume\n",
              "0  2004-08-19  50.050049  52.082081  48.028027  50.220219  50.220219  44659000\n",
              "1  2004-08-20  50.555557  54.594593  50.300301  54.209209  54.209209  22834300\n",
              "2  2004-08-23  55.430431  56.796795  54.579578  54.754753  54.754753  18256100\n",
              "3  2004-08-24  55.675674  55.855854  51.836838  52.487488  52.487488  15247300\n",
              "4  2004-08-25  52.532532  54.054054  51.991993  53.053055  53.053055   9188600"
            ]
          },
          "metadata": {
            "tags": []
          },
          "execution_count": 3
        }
      ]
    },
    {
      "cell_type": "code",
      "metadata": {
        "id": "7S8CcU4KGIfB",
        "colab_type": "code",
        "colab": {
          "base_uri": "https://localhost:8080/",
          "height": 206
        },
        "outputId": "ffae8ac8-195d-43eb-b189-5c1b9928bd05"
      },
      "source": [
        "data_training = data[data['Date'] < '2019-01-01']\n",
        "data_training.tail()"
      ],
      "execution_count": 4,
      "outputs": [
        {
          "output_type": "execute_result",
          "data": {
            "text/html": [
              "<div>\n",
              "<style scoped>\n",
              "    .dataframe tbody tr th:only-of-type {\n",
              "        vertical-align: middle;\n",
              "    }\n",
              "\n",
              "    .dataframe tbody tr th {\n",
              "        vertical-align: top;\n",
              "    }\n",
              "\n",
              "    .dataframe thead th {\n",
              "        text-align: right;\n",
              "    }\n",
              "</style>\n",
              "<table border=\"1\" class=\"dataframe\">\n",
              "  <thead>\n",
              "    <tr style=\"text-align: right;\">\n",
              "      <th></th>\n",
              "      <th>Date</th>\n",
              "      <th>Open</th>\n",
              "      <th>High</th>\n",
              "      <th>Low</th>\n",
              "      <th>Close</th>\n",
              "      <th>Adj Close</th>\n",
              "      <th>Volume</th>\n",
              "    </tr>\n",
              "  </thead>\n",
              "  <tbody>\n",
              "    <tr>\n",
              "      <th>3612</th>\n",
              "      <td>2018-12-24</td>\n",
              "      <td>984.320007</td>\n",
              "      <td>1012.119995</td>\n",
              "      <td>977.659973</td>\n",
              "      <td>984.669983</td>\n",
              "      <td>984.669983</td>\n",
              "      <td>1818000</td>\n",
              "    </tr>\n",
              "    <tr>\n",
              "      <th>3613</th>\n",
              "      <td>2018-12-26</td>\n",
              "      <td>997.989990</td>\n",
              "      <td>1048.449951</td>\n",
              "      <td>992.650024</td>\n",
              "      <td>1047.849976</td>\n",
              "      <td>1047.849976</td>\n",
              "      <td>2315900</td>\n",
              "    </tr>\n",
              "    <tr>\n",
              "      <th>3614</th>\n",
              "      <td>2018-12-27</td>\n",
              "      <td>1026.199951</td>\n",
              "      <td>1053.339966</td>\n",
              "      <td>1007.000000</td>\n",
              "      <td>1052.900024</td>\n",
              "      <td>1052.900024</td>\n",
              "      <td>2299800</td>\n",
              "    </tr>\n",
              "    <tr>\n",
              "      <th>3615</th>\n",
              "      <td>2018-12-28</td>\n",
              "      <td>1059.500000</td>\n",
              "      <td>1064.229980</td>\n",
              "      <td>1042.000000</td>\n",
              "      <td>1046.680054</td>\n",
              "      <td>1046.680054</td>\n",
              "      <td>1719900</td>\n",
              "    </tr>\n",
              "    <tr>\n",
              "      <th>3616</th>\n",
              "      <td>2018-12-31</td>\n",
              "      <td>1057.829956</td>\n",
              "      <td>1062.989990</td>\n",
              "      <td>1033.040039</td>\n",
              "      <td>1044.959961</td>\n",
              "      <td>1044.959961</td>\n",
              "      <td>1655500</td>\n",
              "    </tr>\n",
              "  </tbody>\n",
              "</table>\n",
              "</div>"
            ],
            "text/plain": [
              "            Date         Open         High  ...        Close    Adj Close   Volume\n",
              "3612  2018-12-24   984.320007  1012.119995  ...   984.669983   984.669983  1818000\n",
              "3613  2018-12-26   997.989990  1048.449951  ...  1047.849976  1047.849976  2315900\n",
              "3614  2018-12-27  1026.199951  1053.339966  ...  1052.900024  1052.900024  2299800\n",
              "3615  2018-12-28  1059.500000  1064.229980  ...  1046.680054  1046.680054  1719900\n",
              "3616  2018-12-31  1057.829956  1062.989990  ...  1044.959961  1044.959961  1655500\n",
              "\n",
              "[5 rows x 7 columns]"
            ]
          },
          "metadata": {
            "tags": []
          },
          "execution_count": 4
        }
      ]
    },
    {
      "cell_type": "code",
      "metadata": {
        "id": "es5cVOrQGctx",
        "colab_type": "code",
        "colab": {
          "base_uri": "https://localhost:8080/",
          "height": 206
        },
        "outputId": "36fecf80-ea7d-4476-f284-030688c9c7e5"
      },
      "source": [
        "data_testing = data[data['Date'] >= '2019-01-01']\n",
        "data_testing.head()"
      ],
      "execution_count": 5,
      "outputs": [
        {
          "output_type": "execute_result",
          "data": {
            "text/html": [
              "<div>\n",
              "<style scoped>\n",
              "    .dataframe tbody tr th:only-of-type {\n",
              "        vertical-align: middle;\n",
              "    }\n",
              "\n",
              "    .dataframe tbody tr th {\n",
              "        vertical-align: top;\n",
              "    }\n",
              "\n",
              "    .dataframe thead th {\n",
              "        text-align: right;\n",
              "    }\n",
              "</style>\n",
              "<table border=\"1\" class=\"dataframe\">\n",
              "  <thead>\n",
              "    <tr style=\"text-align: right;\">\n",
              "      <th></th>\n",
              "      <th>Date</th>\n",
              "      <th>Open</th>\n",
              "      <th>High</th>\n",
              "      <th>Low</th>\n",
              "      <th>Close</th>\n",
              "      <th>Adj Close</th>\n",
              "      <th>Volume</th>\n",
              "    </tr>\n",
              "  </thead>\n",
              "  <tbody>\n",
              "    <tr>\n",
              "      <th>3617</th>\n",
              "      <td>2019-01-02</td>\n",
              "      <td>1027.199951</td>\n",
              "      <td>1060.790039</td>\n",
              "      <td>1025.280029</td>\n",
              "      <td>1054.680054</td>\n",
              "      <td>1054.680054</td>\n",
              "      <td>1593400</td>\n",
              "    </tr>\n",
              "    <tr>\n",
              "      <th>3618</th>\n",
              "      <td>2019-01-03</td>\n",
              "      <td>1050.670044</td>\n",
              "      <td>1066.260010</td>\n",
              "      <td>1022.369995</td>\n",
              "      <td>1025.469971</td>\n",
              "      <td>1025.469971</td>\n",
              "      <td>2098000</td>\n",
              "    </tr>\n",
              "    <tr>\n",
              "      <th>3619</th>\n",
              "      <td>2019-01-04</td>\n",
              "      <td>1042.560059</td>\n",
              "      <td>1080.000000</td>\n",
              "      <td>1036.859985</td>\n",
              "      <td>1078.069946</td>\n",
              "      <td>1078.069946</td>\n",
              "      <td>2301100</td>\n",
              "    </tr>\n",
              "    <tr>\n",
              "      <th>3620</th>\n",
              "      <td>2019-01-07</td>\n",
              "      <td>1080.969971</td>\n",
              "      <td>1082.699951</td>\n",
              "      <td>1062.640015</td>\n",
              "      <td>1075.920044</td>\n",
              "      <td>1075.920044</td>\n",
              "      <td>2372300</td>\n",
              "    </tr>\n",
              "    <tr>\n",
              "      <th>3621</th>\n",
              "      <td>2019-01-08</td>\n",
              "      <td>1086.000000</td>\n",
              "      <td>1093.349976</td>\n",
              "      <td>1068.349976</td>\n",
              "      <td>1085.369995</td>\n",
              "      <td>1085.369995</td>\n",
              "      <td>1770700</td>\n",
              "    </tr>\n",
              "  </tbody>\n",
              "</table>\n",
              "</div>"
            ],
            "text/plain": [
              "            Date         Open         High  ...        Close    Adj Close   Volume\n",
              "3617  2019-01-02  1027.199951  1060.790039  ...  1054.680054  1054.680054  1593400\n",
              "3618  2019-01-03  1050.670044  1066.260010  ...  1025.469971  1025.469971  2098000\n",
              "3619  2019-01-04  1042.560059  1080.000000  ...  1078.069946  1078.069946  2301100\n",
              "3620  2019-01-07  1080.969971  1082.699951  ...  1075.920044  1075.920044  2372300\n",
              "3621  2019-01-08  1086.000000  1093.349976  ...  1085.369995  1085.369995  1770700\n",
              "\n",
              "[5 rows x 7 columns]"
            ]
          },
          "metadata": {
            "tags": []
          },
          "execution_count": 5
        }
      ]
    },
    {
      "cell_type": "code",
      "metadata": {
        "id": "Ny776t4HGvke",
        "colab_type": "code",
        "colab": {
          "base_uri": "https://localhost:8080/",
          "height": 206
        },
        "outputId": "46103f82-3a02-4439-de08-72b13f2725a8"
      },
      "source": [
        "training_data = data_training.drop(['Date','Adj Close'], axis = 1)\n",
        "training_data.head()"
      ],
      "execution_count": 6,
      "outputs": [
        {
          "output_type": "execute_result",
          "data": {
            "text/html": [
              "<div>\n",
              "<style scoped>\n",
              "    .dataframe tbody tr th:only-of-type {\n",
              "        vertical-align: middle;\n",
              "    }\n",
              "\n",
              "    .dataframe tbody tr th {\n",
              "        vertical-align: top;\n",
              "    }\n",
              "\n",
              "    .dataframe thead th {\n",
              "        text-align: right;\n",
              "    }\n",
              "</style>\n",
              "<table border=\"1\" class=\"dataframe\">\n",
              "  <thead>\n",
              "    <tr style=\"text-align: right;\">\n",
              "      <th></th>\n",
              "      <th>Open</th>\n",
              "      <th>High</th>\n",
              "      <th>Low</th>\n",
              "      <th>Close</th>\n",
              "      <th>Volume</th>\n",
              "    </tr>\n",
              "  </thead>\n",
              "  <tbody>\n",
              "    <tr>\n",
              "      <th>0</th>\n",
              "      <td>50.050049</td>\n",
              "      <td>52.082081</td>\n",
              "      <td>48.028027</td>\n",
              "      <td>50.220219</td>\n",
              "      <td>44659000</td>\n",
              "    </tr>\n",
              "    <tr>\n",
              "      <th>1</th>\n",
              "      <td>50.555557</td>\n",
              "      <td>54.594593</td>\n",
              "      <td>50.300301</td>\n",
              "      <td>54.209209</td>\n",
              "      <td>22834300</td>\n",
              "    </tr>\n",
              "    <tr>\n",
              "      <th>2</th>\n",
              "      <td>55.430431</td>\n",
              "      <td>56.796795</td>\n",
              "      <td>54.579578</td>\n",
              "      <td>54.754753</td>\n",
              "      <td>18256100</td>\n",
              "    </tr>\n",
              "    <tr>\n",
              "      <th>3</th>\n",
              "      <td>55.675674</td>\n",
              "      <td>55.855854</td>\n",
              "      <td>51.836838</td>\n",
              "      <td>52.487488</td>\n",
              "      <td>15247300</td>\n",
              "    </tr>\n",
              "    <tr>\n",
              "      <th>4</th>\n",
              "      <td>52.532532</td>\n",
              "      <td>54.054054</td>\n",
              "      <td>51.991993</td>\n",
              "      <td>53.053055</td>\n",
              "      <td>9188600</td>\n",
              "    </tr>\n",
              "  </tbody>\n",
              "</table>\n",
              "</div>"
            ],
            "text/plain": [
              "        Open       High        Low      Close    Volume\n",
              "0  50.050049  52.082081  48.028027  50.220219  44659000\n",
              "1  50.555557  54.594593  50.300301  54.209209  22834300\n",
              "2  55.430431  56.796795  54.579578  54.754753  18256100\n",
              "3  55.675674  55.855854  51.836838  52.487488  15247300\n",
              "4  52.532532  54.054054  51.991993  53.053055   9188600"
            ]
          },
          "metadata": {
            "tags": []
          },
          "execution_count": 6
        }
      ]
    },
    {
      "cell_type": "code",
      "metadata": {
        "id": "oaCLZWuLG7wC",
        "colab_type": "code",
        "colab": {
          "base_uri": "https://localhost:8080/",
          "height": 256
        },
        "outputId": "2bbb3338-81d0-4628-cac6-85a5d5c5ef99"
      },
      "source": [
        "scalar = MinMaxScaler()\n",
        "training_data = scalar.fit_transform(training_data)\n",
        "training_data"
      ],
      "execution_count": 7,
      "outputs": [
        {
          "output_type": "execute_result",
          "data": {
            "text/plain": [
              "array([[3.27076291e-04, 9.36027567e-04, 0.00000000e+00, 1.33688677e-04,\n",
              "        5.40709661e-01],\n",
              "       [7.34916593e-04, 2.96139917e-03, 1.87022750e-03, 3.36247683e-03,\n",
              "        2.73350035e-01],\n",
              "       [4.66793067e-03, 4.73662548e-03, 5.39234743e-03, 3.80405377e-03,\n",
              "        2.17265605e-01],\n",
              "       ...,\n",
              "       [7.87877956e-01, 8.08064229e-01, 7.89295551e-01, 8.11727769e-01,\n",
              "        2.17957749e-02],\n",
              "       [8.14744202e-01, 8.16842824e-01, 8.18102800e-01, 8.06693170e-01,\n",
              "        1.46918125e-02],\n",
              "       [8.13396822e-01, 8.15843250e-01, 8.10728176e-01, 8.05300884e-01,\n",
              "        1.39028917e-02]])"
            ]
          },
          "metadata": {
            "tags": []
          },
          "execution_count": 7
        }
      ]
    },
    {
      "cell_type": "code",
      "metadata": {
        "id": "1AIKYby2HaHg",
        "colab_type": "code",
        "colab": {}
      },
      "source": [
        "X_train = []\n",
        "y_train = []"
      ],
      "execution_count": 0,
      "outputs": []
    },
    {
      "cell_type": "code",
      "metadata": {
        "id": "EvClABN0HhCm",
        "colab_type": "code",
        "colab": {}
      },
      "source": [
        "for i in range(60,training_data.shape[0]):\n",
        "  X_train.append(training_data[i-60:i])\n",
        "  y_train.append(training_data[i,0])"
      ],
      "execution_count": 0,
      "outputs": []
    },
    {
      "cell_type": "code",
      "metadata": {
        "id": "Mk-0VmMMH_Ki",
        "colab_type": "code",
        "colab": {}
      },
      "source": [
        "X_train,y_train = np.array(X_train),np.array(y_train)"
      ],
      "execution_count": 0,
      "outputs": []
    },
    {
      "cell_type": "code",
      "metadata": {
        "id": "Z4F94Gi3IHIW",
        "colab_type": "code",
        "colab": {
          "base_uri": "https://localhost:8080/",
          "height": 35
        },
        "outputId": "ad980cdb-a9a5-484a-be4f-e15a6a6719ad"
      },
      "source": [
        "X_train.shape,y_train.shape"
      ],
      "execution_count": 11,
      "outputs": [
        {
          "output_type": "execute_result",
          "data": {
            "text/plain": [
              "((3557, 60, 5), (3557,))"
            ]
          },
          "metadata": {
            "tags": []
          },
          "execution_count": 11
        }
      ]
    },
    {
      "cell_type": "code",
      "metadata": {
        "id": "I_hDnt8rIMkv",
        "colab_type": "code",
        "colab": {}
      },
      "source": [
        "from tensorflow.keras import Sequential\n",
        "from tensorflow.keras.layers import Dense, LSTM , Dropout"
      ],
      "execution_count": 0,
      "outputs": []
    },
    {
      "cell_type": "code",
      "metadata": {
        "id": "vgPm4eDuIQRC",
        "colab_type": "code",
        "colab": {}
      },
      "source": [
        "regression = Sequential()\n",
        "regression.add(LSTM(units = 60, activation = 'relu', return_sequences = True,input_shape=(X_train.shape[1],5)))\n",
        "regression.add(Dropout(0.1))\n",
        "regression.add(LSTM(units = 80, activation = 'relu', return_sequences = True))\n",
        "regression.add(Dropout(0.2))\n",
        "regression.add(LSTM(units = 100, activation = 'relu', return_sequences = True))\n",
        "regression.add(Dropout(0.2))\n",
        "regression.add(LSTM(units = 120, activation = 'relu'))\n",
        "regression.add(Dropout(0.2))\n",
        "regression.add(Dense(units = 1))"
      ],
      "execution_count": 0,
      "outputs": []
    },
    {
      "cell_type": "code",
      "metadata": {
        "id": "hIvdZmlYJgOz",
        "colab_type": "code",
        "colab": {
          "base_uri": "https://localhost:8080/",
          "height": 495
        },
        "outputId": "f95a50af-d595-4804-fc83-9451d9de3a47"
      },
      "source": [
        "regression.summary()"
      ],
      "execution_count": 14,
      "outputs": [
        {
          "output_type": "stream",
          "text": [
            "Model: \"sequential\"\n",
            "_________________________________________________________________\n",
            "Layer (type)                 Output Shape              Param #   \n",
            "=================================================================\n",
            "lstm (LSTM)                  (None, 60, 60)            15840     \n",
            "_________________________________________________________________\n",
            "dropout (Dropout)            (None, 60, 60)            0         \n",
            "_________________________________________________________________\n",
            "lstm_1 (LSTM)                (None, 60, 80)            45120     \n",
            "_________________________________________________________________\n",
            "dropout_1 (Dropout)          (None, 60, 80)            0         \n",
            "_________________________________________________________________\n",
            "lstm_2 (LSTM)                (None, 60, 100)           72400     \n",
            "_________________________________________________________________\n",
            "dropout_2 (Dropout)          (None, 60, 100)           0         \n",
            "_________________________________________________________________\n",
            "lstm_3 (LSTM)                (None, 120)               106080    \n",
            "_________________________________________________________________\n",
            "dropout_3 (Dropout)          (None, 120)               0         \n",
            "_________________________________________________________________\n",
            "dense (Dense)                (None, 1)                 121       \n",
            "=================================================================\n",
            "Total params: 239,561\n",
            "Trainable params: 239,561\n",
            "Non-trainable params: 0\n",
            "_________________________________________________________________\n"
          ],
          "name": "stdout"
        }
      ]
    },
    {
      "cell_type": "code",
      "metadata": {
        "id": "vH5opOcYJiv1",
        "colab_type": "code",
        "colab": {}
      },
      "source": [
        "regression.compile(optimizer='adam',loss='mean_squared_error')"
      ],
      "execution_count": 0,
      "outputs": []
    },
    {
      "cell_type": "code",
      "metadata": {
        "id": "L-_pn0gzJ0mG",
        "colab_type": "code",
        "colab": {
          "base_uri": "https://localhost:8080/",
          "height": 1000
        },
        "outputId": "85899a4c-d74d-48af-b798-3c88e2843341"
      },
      "source": [
        "regression.fit(X_train,y_train,epochs = 50, batch_size = 32)"
      ],
      "execution_count": 16,
      "outputs": [
        {
          "output_type": "stream",
          "text": [
            "Train on 3557 samples\n",
            "Epoch 1/50\n",
            "3557/3557 [==============================] - 23s 7ms/sample - loss: 0.0094\n",
            "Epoch 2/50\n",
            "3557/3557 [==============================] - 20s 6ms/sample - loss: 0.0019\n",
            "Epoch 3/50\n",
            "3557/3557 [==============================] - 19s 5ms/sample - loss: 0.0021\n",
            "Epoch 4/50\n",
            "3557/3557 [==============================] - 20s 6ms/sample - loss: 0.0020\n",
            "Epoch 5/50\n",
            "3557/3557 [==============================] - 19s 5ms/sample - loss: 0.0015\n",
            "Epoch 6/50\n",
            "3557/3557 [==============================] - 19s 5ms/sample - loss: 0.0014\n",
            "Epoch 7/50\n",
            "3557/3557 [==============================] - 19s 5ms/sample - loss: 0.0016\n",
            "Epoch 8/50\n",
            "3557/3557 [==============================] - 20s 5ms/sample - loss: 0.0016\n",
            "Epoch 9/50\n",
            "3557/3557 [==============================] - 20s 6ms/sample - loss: 0.0013\n",
            "Epoch 10/50\n",
            "3557/3557 [==============================] - 19s 5ms/sample - loss: 0.0013\n",
            "Epoch 11/50\n",
            "3557/3557 [==============================] - 19s 5ms/sample - loss: 0.0013\n",
            "Epoch 12/50\n",
            "3557/3557 [==============================] - 20s 6ms/sample - loss: 0.0012\n",
            "Epoch 13/50\n",
            "3557/3557 [==============================] - 20s 6ms/sample - loss: 0.0012\n",
            "Epoch 14/50\n",
            "3557/3557 [==============================] - 20s 6ms/sample - loss: 0.0011\n",
            "Epoch 15/50\n",
            "3557/3557 [==============================] - 20s 6ms/sample - loss: 9.5456e-04\n",
            "Epoch 16/50\n",
            "3557/3557 [==============================] - 20s 5ms/sample - loss: 9.9870e-04\n",
            "Epoch 17/50\n",
            "3557/3557 [==============================] - 20s 6ms/sample - loss: 0.0011\n",
            "Epoch 18/50\n",
            "3557/3557 [==============================] - 20s 6ms/sample - loss: 8.9756e-04\n",
            "Epoch 19/50\n",
            "3557/3557 [==============================] - 19s 5ms/sample - loss: 9.7654e-04\n",
            "Epoch 20/50\n",
            "3557/3557 [==============================] - 20s 6ms/sample - loss: 0.0010\n",
            "Epoch 21/50\n",
            "3557/3557 [==============================] - 20s 5ms/sample - loss: 8.9941e-04\n",
            "Epoch 22/50\n",
            "3557/3557 [==============================] - 19s 5ms/sample - loss: 7.9023e-04\n",
            "Epoch 23/50\n",
            "3557/3557 [==============================] - 20s 6ms/sample - loss: 8.1970e-04\n",
            "Epoch 24/50\n",
            "3557/3557 [==============================] - 20s 6ms/sample - loss: 8.2273e-04\n",
            "Epoch 25/50\n",
            "3557/3557 [==============================] - 20s 6ms/sample - loss: 9.8726e-04\n",
            "Epoch 26/50\n",
            "3557/3557 [==============================] - 19s 5ms/sample - loss: 7.6039e-04\n",
            "Epoch 27/50\n",
            "3557/3557 [==============================] - 19s 5ms/sample - loss: 7.5937e-04\n",
            "Epoch 28/50\n",
            "3557/3557 [==============================] - 19s 5ms/sample - loss: 7.4027e-04\n",
            "Epoch 29/50\n",
            "3557/3557 [==============================] - 20s 6ms/sample - loss: 7.1481e-04\n",
            "Epoch 30/50\n",
            "3557/3557 [==============================] - 21s 6ms/sample - loss: 7.5207e-04\n",
            "Epoch 31/50\n",
            "3557/3557 [==============================] - 19s 5ms/sample - loss: 8.0927e-04\n",
            "Epoch 32/50\n",
            "3557/3557 [==============================] - 19s 5ms/sample - loss: 8.3058e-04\n",
            "Epoch 33/50\n",
            "3557/3557 [==============================] - 20s 6ms/sample - loss: 6.6052e-04\n",
            "Epoch 34/50\n",
            "3557/3557 [==============================] - 19s 5ms/sample - loss: 6.7965e-04\n",
            "Epoch 35/50\n",
            "3557/3557 [==============================] - 20s 6ms/sample - loss: 6.6221e-04\n",
            "Epoch 36/50\n",
            "3557/3557 [==============================] - 20s 6ms/sample - loss: 6.7246e-04\n",
            "Epoch 37/50\n",
            "3557/3557 [==============================] - 20s 6ms/sample - loss: 6.6311e-04\n",
            "Epoch 38/50\n",
            "3557/3557 [==============================] - 20s 6ms/sample - loss: 7.0916e-04\n",
            "Epoch 39/50\n",
            "3557/3557 [==============================] - 20s 6ms/sample - loss: 6.4623e-04\n",
            "Epoch 40/50\n",
            "3557/3557 [==============================] - 20s 6ms/sample - loss: 6.2221e-04\n",
            "Epoch 41/50\n",
            "3557/3557 [==============================] - 19s 5ms/sample - loss: 5.9181e-04\n",
            "Epoch 42/50\n",
            "3557/3557 [==============================] - 20s 6ms/sample - loss: 6.5897e-04\n",
            "Epoch 43/50\n",
            "3557/3557 [==============================] - 20s 6ms/sample - loss: 6.2647e-04\n",
            "Epoch 44/50\n",
            "3557/3557 [==============================] - 20s 6ms/sample - loss: 6.3808e-04\n",
            "Epoch 45/50\n",
            "3557/3557 [==============================] - 20s 6ms/sample - loss: 6.2403e-04\n",
            "Epoch 46/50\n",
            "3557/3557 [==============================] - 20s 6ms/sample - loss: 5.8241e-04\n",
            "Epoch 47/50\n",
            "3557/3557 [==============================] - 20s 6ms/sample - loss: 5.6330e-04\n",
            "Epoch 48/50\n",
            "3557/3557 [==============================] - 20s 6ms/sample - loss: 6.4979e-04\n",
            "Epoch 49/50\n",
            "3557/3557 [==============================] - 20s 6ms/sample - loss: 6.0189e-04\n",
            "Epoch 50/50\n",
            "3557/3557 [==============================] - 19s 5ms/sample - loss: 6.2876e-04\n"
          ],
          "name": "stdout"
        },
        {
          "output_type": "execute_result",
          "data": {
            "text/plain": [
              "<tensorflow.python.keras.callbacks.History at 0x7f7a777033c8>"
            ]
          },
          "metadata": {
            "tags": []
          },
          "execution_count": 16
        }
      ]
    },
    {
      "cell_type": "code",
      "metadata": {
        "id": "SI_-LBu-J8O_",
        "colab_type": "code",
        "colab": {}
      },
      "source": [
        "past_60_days = data_training.tail(60)"
      ],
      "execution_count": 0,
      "outputs": []
    },
    {
      "cell_type": "code",
      "metadata": {
        "id": "m6kijr0tKnYF",
        "colab_type": "code",
        "colab": {
          "base_uri": "https://localhost:8080/",
          "height": 424
        },
        "outputId": "5e51041e-d715-4ab6-9d10-6d186f97ed92"
      },
      "source": [
        "df = past_60_days.append(data_testing)\n",
        "df = df.drop(['Date','Adj Close'],axis = 1)\n",
        "df"
      ],
      "execution_count": 18,
      "outputs": [
        {
          "output_type": "execute_result",
          "data": {
            "text/html": [
              "<div>\n",
              "<style scoped>\n",
              "    .dataframe tbody tr th:only-of-type {\n",
              "        vertical-align: middle;\n",
              "    }\n",
              "\n",
              "    .dataframe tbody tr th {\n",
              "        vertical-align: top;\n",
              "    }\n",
              "\n",
              "    .dataframe thead th {\n",
              "        text-align: right;\n",
              "    }\n",
              "</style>\n",
              "<table border=\"1\" class=\"dataframe\">\n",
              "  <thead>\n",
              "    <tr style=\"text-align: right;\">\n",
              "      <th></th>\n",
              "      <th>Open</th>\n",
              "      <th>High</th>\n",
              "      <th>Low</th>\n",
              "      <th>Close</th>\n",
              "      <th>Volume</th>\n",
              "    </tr>\n",
              "  </thead>\n",
              "  <tbody>\n",
              "    <tr>\n",
              "      <th>3557</th>\n",
              "      <td>1205.030029</td>\n",
              "      <td>1205.900024</td>\n",
              "      <td>1163.849976</td>\n",
              "      <td>1177.069946</td>\n",
              "      <td>2328800</td>\n",
              "    </tr>\n",
              "    <tr>\n",
              "      <th>3558</th>\n",
              "      <td>1176.000000</td>\n",
              "      <td>1182.000000</td>\n",
              "      <td>1154.319946</td>\n",
              "      <td>1167.829956</td>\n",
              "      <td>1592600</td>\n",
              "    </tr>\n",
              "    <tr>\n",
              "      <th>3559</th>\n",
              "      <td>1160.000000</td>\n",
              "      <td>1175.859985</td>\n",
              "      <td>1135.400024</td>\n",
              "      <td>1155.920044</td>\n",
              "      <td>2309500</td>\n",
              "    </tr>\n",
              "    <tr>\n",
              "      <th>3560</th>\n",
              "      <td>1151.310059</td>\n",
              "      <td>1161.550049</td>\n",
              "      <td>1144.170044</td>\n",
              "      <td>1145.170044</td>\n",
              "      <td>1684500</td>\n",
              "    </tr>\n",
              "    <tr>\n",
              "      <th>3561</th>\n",
              "      <td>1136.400024</td>\n",
              "      <td>1137.020020</td>\n",
              "      <td>1091.510010</td>\n",
              "      <td>1092.160034</td>\n",
              "      <td>2949000</td>\n",
              "    </tr>\n",
              "    <tr>\n",
              "      <th>...</th>\n",
              "      <td>...</td>\n",
              "      <td>...</td>\n",
              "      <td>...</td>\n",
              "      <td>...</td>\n",
              "      <td>...</td>\n",
              "    </tr>\n",
              "    <tr>\n",
              "      <th>3943</th>\n",
              "      <td>1269.890015</td>\n",
              "      <td>1276.819946</td>\n",
              "      <td>1256.439941</td>\n",
              "      <td>1261.150024</td>\n",
              "      <td>1764600</td>\n",
              "    </tr>\n",
              "    <tr>\n",
              "      <th>3944</th>\n",
              "      <td>1242.709961</td>\n",
              "      <td>1250.000000</td>\n",
              "      <td>1205.000000</td>\n",
              "      <td>1212.160034</td>\n",
              "      <td>2482400</td>\n",
              "    </tr>\n",
              "    <tr>\n",
              "      <th>3945</th>\n",
              "      <td>1241.109985</td>\n",
              "      <td>1279.880005</td>\n",
              "      <td>1237.199951</td>\n",
              "      <td>1258.410034</td>\n",
              "      <td>2315800</td>\n",
              "    </tr>\n",
              "    <tr>\n",
              "      <th>3946</th>\n",
              "      <td>1265.739990</td>\n",
              "      <td>1288.150024</td>\n",
              "      <td>1260.530029</td>\n",
              "      <td>1271.170044</td>\n",
              "      <td>1710100</td>\n",
              "    </tr>\n",
              "    <tr>\n",
              "      <th>3947</th>\n",
              "      <td>1255.000000</td>\n",
              "      <td>1277.709961</td>\n",
              "      <td>1244.000000</td>\n",
              "      <td>1276.599976</td>\n",
              "      <td>1870100</td>\n",
              "    </tr>\n",
              "  </tbody>\n",
              "</table>\n",
              "<p>391 rows × 5 columns</p>\n",
              "</div>"
            ],
            "text/plain": [
              "             Open         High          Low        Close   Volume\n",
              "3557  1205.030029  1205.900024  1163.849976  1177.069946  2328800\n",
              "3558  1176.000000  1182.000000  1154.319946  1167.829956  1592600\n",
              "3559  1160.000000  1175.859985  1135.400024  1155.920044  2309500\n",
              "3560  1151.310059  1161.550049  1144.170044  1145.170044  1684500\n",
              "3561  1136.400024  1137.020020  1091.510010  1092.160034  2949000\n",
              "...           ...          ...          ...          ...      ...\n",
              "3943  1269.890015  1276.819946  1256.439941  1261.150024  1764600\n",
              "3944  1242.709961  1250.000000  1205.000000  1212.160034  2482400\n",
              "3945  1241.109985  1279.880005  1237.199951  1258.410034  2315800\n",
              "3946  1265.739990  1288.150024  1260.530029  1271.170044  1710100\n",
              "3947  1255.000000  1277.709961  1244.000000  1276.599976  1870100\n",
              "\n",
              "[391 rows x 5 columns]"
            ]
          },
          "metadata": {
            "tags": []
          },
          "execution_count": 18
        }
      ]
    },
    {
      "cell_type": "code",
      "metadata": {
        "id": "eX7VhJQDK5cJ",
        "colab_type": "code",
        "colab": {
          "base_uri": "https://localhost:8080/",
          "height": 146
        },
        "outputId": "ce0fb7c6-b9b8-48b7-e258-c463b120eda1"
      },
      "source": [
        "inputs = scalar.transform(df)\n",
        "inputs"
      ],
      "execution_count": 19,
      "outputs": [
        {
          "output_type": "execute_result",
          "data": {
            "text/plain": [
              "array([[0.93215681, 0.93104506, 0.91839316, 0.91223401, 0.02215103],\n",
              "       [0.90873558, 0.91177891, 0.91054933, 0.90475493, 0.01313235],\n",
              "       [0.8958269 , 0.90682936, 0.89497702, 0.89511475, 0.0219146 ],\n",
              "       ...,\n",
              "       [0.96126586, 0.99068137, 0.9787649 , 0.9780727 , 0.02199178],\n",
              "       [0.98113718, 0.99734795, 0.99796706, 0.98840098, 0.01457176],\n",
              "       [0.97247223, 0.98893207, 0.98436178, 0.9927961 , 0.01653181]])"
            ]
          },
          "metadata": {
            "tags": []
          },
          "execution_count": 19
        }
      ]
    },
    {
      "cell_type": "code",
      "metadata": {
        "id": "gmPlldL3LOna",
        "colab_type": "code",
        "colab": {}
      },
      "source": [
        "X_test = []\n",
        "y_test = []"
      ],
      "execution_count": 0,
      "outputs": []
    },
    {
      "cell_type": "code",
      "metadata": {
        "id": "MX1VNTrELYyQ",
        "colab_type": "code",
        "colab": {
          "base_uri": "https://localhost:8080/",
          "height": 35
        },
        "outputId": "cd6009dd-1653-442c-b4d4-6b18ffa171ce"
      },
      "source": [
        "for i in range(60,inputs.shape[0]):\n",
        "  X_test.append(inputs[i-60:i])\n",
        "  y_test.append(inputs[i,0])\n",
        "X_test,y_test = np.array(X_test),np.array(y_test)\n",
        "X_test.shape,y_test.shape"
      ],
      "execution_count": 21,
      "outputs": [
        {
          "output_type": "execute_result",
          "data": {
            "text/plain": [
              "((331, 60, 5), (331,))"
            ]
          },
          "metadata": {
            "tags": []
          },
          "execution_count": 21
        }
      ]
    },
    {
      "cell_type": "code",
      "metadata": {
        "id": "3VswgDAaLq4W",
        "colab_type": "code",
        "colab": {}
      },
      "source": [
        "y_pred = regression.predict(X_test)"
      ],
      "execution_count": 0,
      "outputs": []
    },
    {
      "cell_type": "code",
      "metadata": {
        "id": "Pk4RkrzFMRxj",
        "colab_type": "code",
        "colab": {
          "base_uri": "https://localhost:8080/",
          "height": 35
        },
        "outputId": "b31745e7-e45f-46cf-c8b3-42f580cf1308"
      },
      "source": [
        "scale = 1/scalar.scale_[0]\n",
        "scale"
      ],
      "execution_count": 23,
      "outputs": [
        {
          "output_type": "execute_result",
          "data": {
            "text/plain": [
              "1239.475349"
            ]
          },
          "metadata": {
            "tags": []
          },
          "execution_count": 23
        }
      ]
    },
    {
      "cell_type": "code",
      "metadata": {
        "id": "8IMEnyLZMiVB",
        "colab_type": "code",
        "colab": {}
      },
      "source": [
        "y_pred *= scale\n",
        "y_test *= scale"
      ],
      "execution_count": 0,
      "outputs": []
    },
    {
      "cell_type": "code",
      "metadata": {
        "id": "ohG0DGCwMrn4",
        "colab_type": "code",
        "colab": {
          "base_uri": "https://localhost:8080/",
          "height": 350
        },
        "outputId": "bdbfea02-5a29-45b6-c726-1fa3328c9ca1"
      },
      "source": [
        "plt.figure(figsize = (15,5))\n",
        "plt.plot(y_test,color = 'red',label = 'real')\n",
        "plt.plot(y_pred,color = 'blue',label = 'predicted')\n",
        "plt.xlabel('time')\n",
        "plt.ylabel('price')\n",
        "plt.title(\"Google Stock Price\")\n",
        "plt.legend()\n",
        "plt.show()"
      ],
      "execution_count": 25,
      "outputs": [
        {
          "output_type": "display_data",
          "data": {
            "image/png": "[encoded data removed]",
            "text/plain": [
              "<Figure size 1080x360 with 1 Axes>"
            ]
          },
          "metadata": {
            "tags": [],
            "needs_background": "light"
          }
        }
      ]
    },
    {
      "cell_type": "code",
      "metadata": {
        "id": "hapUqH2cNaU2",
        "colab_type": "code",
        "colab": {}
      },
      "source": [
        ""
      ],
      "execution_count": 0,
      "outputs": []
    }
  ]
}